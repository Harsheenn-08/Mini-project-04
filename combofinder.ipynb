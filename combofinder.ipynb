{
  "nbformat": 4,
  "nbformat_minor": 0,
  "metadata": {
    "colab": {
      "provenance": []
    },
    "kernelspec": {
      "name": "python3",
      "display_name": "Python 3"
    },
    "language_info": {
      "name": "python"
    }
  },
  "cells": [
    {
      "cell_type": "markdown",
      "source": [
        "---\n",
        "#**Combo Finder**\n",
        "---\n",
        "##**Probelm statement**\n",
        "\n",
        "Find all the list of product whose sum of price is between 290 and 310\n",
        "\n",
        "ProductList={p1:10, p2:15, p3:20, p4:25, p5:30, p6:35, p7:50}\n"
      ],
      "metadata": {
        "id": "88pPbMdDiD5q"
      }
    },
    {
      "cell_type": "code",
      "execution_count": null,
      "metadata": {
        "colab": {
          "base_uri": "https://localhost:8080/"
        },
        "id": "68TtrxdM2W55",
        "outputId": "66918b9e-1fd9-4738-cac6-21709a1c8fa9"
      },
      "outputs": [
        {
          "output_type": "stream",
          "name": "stdout",
          "text": [
            "Number of Product : 8\n",
            "Product List  : ['p11', 'p5', 'p1', 'p4', 'p7', 'p6', 'p12', 'p14']\n",
            "Sum of Product : 335\n"
          ]
        }
      ],
      "source": [
        "import random as r\n",
        "ProductList={'p1':10, 'p2':15, 'p3':20, 'p4':25, 'p5':30, 'p6':35, 'p7':50,\n",
        "               'p8':40, 'p9':55, 'p10':60, 'p11':65, 'p12':75, 'p13':70,\n",
        "               'p14':45}\n",
        "LB=290\n",
        "UB=310\n",
        "ResultList=set()\n",
        "Iteration=1000\n",
        "\n",
        "Setsize=r.randint(2,len(ProductList)-1)\n",
        "print(\"Number of Product :\",Setsize)\n",
        "ComboList=r.sample(list(ProductList.keys()),Setsize)\n",
        "print(\"Product List  :\",ComboList)\n",
        "Combosum=sum([ProductList[i] for i in ComboList])\n",
        "print(\"Sum of Product :\",Combosum)"
      ]
    },
    {
      "cell_type": "markdown",
      "source": [
        "##**Start Program**"
      ],
      "metadata": {
        "id": "FUXXHroQipd6"
      }
    },
    {
      "cell_type": "code",
      "source": [
        "ResultList=set()\n",
        "\n",
        "for i in range(Iteration):\n",
        "  Setsize=r.randint(2,len(ProductList)-1)\n",
        "  ComboList=r.sample(list(ProductList.keys()),Setsize)\n",
        "  Combosum=sum([ProductList[i] for i in ComboList])\n",
        "\n",
        "  if Combosum>=LB and Combosum<= UB:\n",
        "    ResultList.add(tuple(ComboList))\n",
        "\n",
        "print(\"Done\")\n",
        "\n",
        "for r in ResultList:\n",
        "  print(r)\n",
        "\n",
        "print(\"\\nTotal Sets: \",len(ResultList),\"/n\")"
      ],
      "metadata": {
        "colab": {
          "base_uri": "https://localhost:8080/"
        },
        "id": "Jl-ZJ-Yg3bkv",
        "outputId": "fbeeecfb-8575-4453-cc15-bb32eb0cacbc"
      },
      "execution_count": null,
      "outputs": [
        {
          "output_type": "stream",
          "name": "stdout",
          "text": [
            "Done\n",
            "('p5', 'p4', 'p12', 'p9', 'p14', 'p13')\n",
            "('p3', 'p6', 'p7', 'p5', 'p10', 'p4', 'p14', 'p8')\n",
            "('p4', 'p14', 'p3', 'p5', 'p7', 'p12', 'p11')\n",
            "('p9', 'p2', 'p11', 'p10', 'p12', 'p6')\n",
            "('p8', 'p11', 'p12', 'p4', 'p2', 'p5', 'p9')\n",
            "('p11', 'p1', 'p12', 'p2', 'p10', 'p13')\n",
            "('p5', 'p14', 'p7', 'p6', 'p12', 'p4', 'p8')\n",
            "('p11', 'p8', 'p9', 'p4', 'p13', 'p14')\n",
            "('p7', 'p3', 'p6', 'p10', 'p9', 'p13')\n",
            "('p9', 'p4', 'p13', 'p12', 'p11')\n",
            "('p12', 'p5', 'p14', 'p4', 'p6', 'p11', 'p3', 'p2')\n",
            "('p7', 'p10', 'p14', 'p8', 'p13', 'p6')\n",
            "('p9', 'p10', 'p12', 'p3', 'p13', 'p1')\n",
            "('p1', 'p11', 'p12', 'p13', 'p8', 'p5')\n",
            "('p13', 'p12', 'p11', 'p10', 'p5')\n",
            "('p7', 'p13', 'p3', 'p12', 'p14', 'p5')\n",
            "('p4', 'p3', 'p10', 'p8', 'p11', 'p2', 'p6', 'p14')\n",
            "('p4', 'p13', 'p8', 'p3', 'p5', 'p1', 'p7', 'p11')\n",
            "('p7', 'p5', 'p3', 'p13', 'p4', 'p11', 'p14')\n",
            "('p5', 'p11', 'p13', 'p3', 'p9', 'p2', 'p8')\n",
            "('p6', 'p8', 'p7', 'p5', 'p10', 'p13', 'p1')\n",
            "('p3', 'p11', 'p6', 'p7', 'p8', 'p9', 'p1', 'p2')\n",
            "('p10', 'p6', 'p14', 'p8', 'p7', 'p4', 'p3', 'p5')\n",
            "('p3', 'p9', 'p12', 'p5', 'p11', 'p8', 'p1', 'p2')\n",
            "('p1', 'p11', 'p7', 'p4', 'p10', 'p14', 'p2', 'p5')\n",
            "('p13', 'p7', 'p4', 'p3', 'p9', 'p11', 'p2')\n",
            "('p8', 'p7', 'p2', 'p13', 'p5', 'p4', 'p10')\n",
            "('p4', 'p1', 'p12', 'p8', 'p6', 'p3', 'p9', 'p7')\n",
            "('p10', 'p14', 'p5', 'p3', 'p8', 'p6', 'p4', 'p7')\n",
            "('p13', 'p4', 'p6', 'p12', 'p2', 'p8', 'p14')\n",
            "('p4', 'p7', 'p3', 'p10', 'p13', 'p11')\n",
            "('p11', 'p7', 'p10', 'p12', 'p2', 'p5')\n",
            "('p2', 'p12', 'p7', 'p5', 'p11', 'p4', 'p6')\n",
            "('p13', 'p12', 'p7', 'p10', 'p9')\n",
            "('p13', 'p5', 'p9', 'p11', 'p6', 'p7')\n",
            "('p5', 'p11', 'p14', 'p12', 'p4', 'p3', 'p8')\n",
            "('p3', 'p5', 'p10', 'p12', 'p14', 'p6', 'p8')\n",
            "('p3', 'p1', 'p6', 'p4', 'p2', 'p12', 'p9', 'p10')\n",
            "('p10', 'p5', 'p6', 'p3', 'p4', 'p8', 'p12', 'p1')\n",
            "('p13', 'p3', 'p9', 'p1', 'p4', 'p6', 'p12')\n",
            "('p6', 'p4', 'p10', 'p2', 'p14', 'p12', 'p1', 'p5')\n",
            "('p9', 'p6', 'p4', 'p11', 'p12', 'p14')\n",
            "('p3', 'p5', 'p13', 'p9', 'p4', 'p8', 'p10')\n",
            "('p11', 'p6', 'p9', 'p14', 'p5', 'p10')\n",
            "('p14', 'p6', 'p11', 'p9', 'p5', 'p4', 'p8')\n",
            "('p10', 'p13', 'p12', 'p5', 'p6', 'p3')\n",
            "('p11', 'p5', 'p9', 'p13', 'p7', 'p1', 'p3')\n",
            "('p13', 'p4', 'p5', 'p6', 'p7', 'p12', 'p1')\n",
            "('p2', 'p9', 'p6', 'p4', 'p14', 'p13', 'p10')\n",
            "('p4', 'p13', 'p12', 'p2', 'p5', 'p1', 'p8', 'p6')\n",
            "('p2', 'p12', 'p7', 'p5', 'p11', 'p10')\n",
            "('p3', 'p12', 'p11', 'p2', 'p14', 'p13', 'p1')\n",
            "('p11', 'p6', 'p2', 'p8', 'p9', 'p3', 'p4', 'p14')\n",
            "('p1', 'p9', 'p10', 'p12', 'p14', 'p5', 'p2')\n",
            "('p3', 'p12', 'p7', 'p10', 'p14', 'p1', 'p6')\n",
            "('p7', 'p1', 'p3', 'p2', 'p10', 'p12', 'p14', 'p6')\n",
            "('p3', 'p9', 'p12', 'p2', 'p10', 'p11')\n",
            "\n",
            "Total Sets:  57 /n\n"
          ]
        }
      ]
    },
    {
      "cell_type": "markdown",
      "source": [
        "##**Program with sorting**\n"
      ],
      "metadata": {
        "id": "itzLiKdUiv7q"
      }
    },
    {
      "cell_type": "code",
      "source": [
        "import random as r\n",
        "ProductList={'p1':10, 'p2':15, 'p3':20, 'p4':25, 'p5':30, 'p6':35, 'p7':50,\n",
        "               'p8':40, 'p9':55, 'p10':60, 'p11':65, 'p12':75, 'p13':70,\n",
        "               'p14':45}\n",
        "LB=290\n",
        "UB=310\n",
        "ResultList=set()\n",
        "Iteration=1000\n",
        "\n",
        "for i in range(Iteration):\n",
        "  Setsize=r.randint(2,len(ProductList)-1)\n",
        "  ComboList=r.sample(list(ProductList.keys()),Setsize)\n",
        "  ComboList.sort()\n",
        "  Combosum=sum([ProductList[i] for i in ComboList])\n",
        "\n",
        "  if Combosum>=LB and Combosum<= UB:\n",
        "    ResultList.add(tuple(ComboList))\n",
        "\n",
        "print(\"Done\")\n",
        "\n",
        "for r in ResultList:\n",
        "  print(r)\n",
        "\n",
        "print(\"\\nTotal Sets: \",len(ResultList),\"/n\")"
      ],
      "metadata": {
        "colab": {
          "base_uri": "https://localhost:8080/"
        },
        "id": "e9Ui0cmY4hSK",
        "outputId": "ec3ba5dc-4c99-441a-a00b-ed55589a82c6"
      },
      "execution_count": null,
      "outputs": [
        {
          "output_type": "stream",
          "name": "stdout",
          "text": [
            "Done\n",
            "('p1', 'p10', 'p12', 'p13', 'p14', 'p7')\n",
            "('p10', 'p11', 'p12', 'p2', 'p3', 'p9')\n",
            "('p10', 'p11', 'p2', 'p3', 'p6', 'p7', 'p9')\n",
            "('p1', 'p10', 'p12', 'p2', 'p3', 'p4', 'p7', 'p8')\n",
            "('p10', 'p11', 'p13', 'p3', 'p6', 'p7')\n",
            "('p1', 'p11', 'p13', 'p14', 'p2', 'p5', 'p6', 'p8')\n",
            "('p10', 'p12', 'p13', 'p14', 'p2', 'p4')\n",
            "('p1', 'p10', 'p13', 'p14', 'p2', 'p3', 'p6', 'p7')\n",
            "('p1', 'p11', 'p12', 'p4', 'p6', 'p8', 'p9')\n",
            "('p13', 'p14', 'p2', 'p3', 'p4', 'p6', 'p7', 'p8')\n",
            "('p1', 'p11', 'p2', 'p3', 'p4', 'p5', 'p6', 'p7', 'p9')\n",
            "('p1', 'p11', 'p13', 'p14', 'p4', 'p8', 'p9')\n",
            "('p11', 'p12', 'p13', 'p14', 'p2', 'p6')\n",
            "('p10', 'p13', 'p14', 'p2', 'p3', 'p4', 'p9')\n",
            "('p10', 'p11', 'p14', 'p2', 'p3', 'p5', 'p9')\n",
            "('p1', 'p10', 'p13', 'p2', 'p3', 'p5', 'p8', 'p9')\n",
            "('p1', 'p10', 'p12', 'p14', 'p2', 'p5', 'p6', 'p8')\n",
            "('p1', 'p10', 'p11', 'p12', 'p13', 'p5')\n",
            "('p11', 'p14', 'p3', 'p5', 'p6', 'p8', 'p9')\n",
            "('p1', 'p12', 'p13', 'p7', 'p8', 'p9')\n",
            "('p10', 'p14', 'p2', 'p3', 'p4', 'p5', 'p7', 'p9')\n",
            "('p11', 'p12', 'p13', 'p14', 'p2', 'p4')\n",
            "('p1', 'p11', 'p14', 'p3', 'p4', 'p7', 'p8', 'p9')\n",
            "('p1', 'p11', 'p2', 'p3', 'p4', 'p5', 'p6', 'p8', 'p9')\n",
            "('p1', 'p12', 'p13', 'p3', 'p4', 'p7', 'p8')\n",
            "('p1', 'p11', 'p12', 'p13', 'p6', 'p9')\n",
            "('p1', 'p10', 'p12', 'p2', 'p3', 'p4', 'p5', 'p9')\n",
            "('p12', 'p13', 'p2', 'p4', 'p5', 'p6', 'p9')\n",
            "('p11', 'p13', 'p5', 'p7', 'p8', 'p9')\n",
            "('p10', 'p11', 'p12', 'p14', 'p3', 'p5')\n",
            "('p1', 'p10', 'p12', 'p2', 'p3', 'p6', 'p7', 'p8')\n",
            "('p11', 'p12', 'p14', 'p7', 'p9')\n",
            "('p1', 'p10', 'p13', 'p2', 'p4', 'p5', 'p8', 'p9')\n",
            "('p1', 'p10', 'p12', 'p13', 'p5', 'p7')\n",
            "('p1', 'p10', 'p11', 'p2', 'p5', 'p6', 'p8', 'p9')\n",
            "('p10', 'p11', 'p4', 'p6', 'p7', 'p9')\n",
            "('p1', 'p10', 'p12', 'p2', 'p3', 'p4', 'p6', 'p9')\n",
            "('p10', 'p13', 'p2', 'p4', 'p6', 'p7', 'p8')\n",
            "('p10', 'p11', 'p13', 'p14', 'p4', 'p6')\n",
            "('p1', 'p10', 'p12', 'p14', 'p2', 'p6', 'p7')\n",
            "('p1', 'p10', 'p12', 'p2', 'p3', 'p4', 'p5', 'p6', 'p8')\n",
            "('p1', 'p10', 'p11', 'p12', 'p13', 'p3')\n",
            "('p10', 'p13', 'p3', 'p4', 'p5', 'p6', 'p7')\n",
            "('p1', 'p11', 'p12', 'p4', 'p6', 'p7', 'p8')\n",
            "('p1', 'p14', 'p2', 'p4', 'p5', 'p6', 'p7', 'p8', 'p9')\n",
            "\n",
            "Total Sets:  45 /n\n"
          ]
        }
      ]
    },
    {
      "cell_type": "code",
      "source": [],
      "metadata": {
        "id": "V3t8zOOZ4zOj"
      },
      "execution_count": null,
      "outputs": []
    }
  ]
}